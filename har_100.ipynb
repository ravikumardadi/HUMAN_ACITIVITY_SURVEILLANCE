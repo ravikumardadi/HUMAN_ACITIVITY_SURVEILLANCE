{
  "cells": [
    {
      "cell_type": "code",
      "execution_count": null,
      "metadata": {
        "colab": {
          "base_uri": "https://localhost:8080/"
        },
        "id": "UNBEkY40rnyi",
        "outputId": "7374018b-98c4-4c07-d80b-7de0372ec12d"
      },
      "outputs": [
        {
          "name": "stdout",
          "output_type": "stream",
          "text": [
            "Mounted at /content/drive\n"
          ]
        }
      ],
      "source": [
        "from google.colab import drive\n",
        "drive.mount('/content/drive')"
      ]
    },
    {
      "cell_type": "code",
      "execution_count": null,
      "metadata": {
        "colab": {
          "base_uri": "https://localhost:8080/"
        },
        "id": "6h3xjk-uryKH",
        "outputId": "3326cd67-6515-48a5-8f69-54cbf8dac5e3"
      },
      "outputs": [
        {
          "name": "stdout",
          "output_type": "stream",
          "text": [
            "--2022-10-10 05:04:15--  http://www.csc.kth.se/cvap/actions/boxing.zip\n",
            "Resolving www.csc.kth.se (www.csc.kth.se)... 130.237.28.41, 2001:6b0:1:11c2::82ed:1c29\n",
            "Connecting to www.csc.kth.se (www.csc.kth.se)|130.237.28.41|:80... connected.\n",
            "HTTP request sent, awaiting response... 301 Moved Permanently\n",
            "Location: https://www.csc.kth.se/cvap/actions/boxing.zip [following]\n",
            "--2022-10-10 05:04:15--  https://www.csc.kth.se/cvap/actions/boxing.zip\n",
            "Connecting to www.csc.kth.se (www.csc.kth.se)|130.237.28.41|:443... connected.\n",
            "HTTP request sent, awaiting response... 200 OK\n",
            "Length: 194498294 (185M) [application/zip]\n",
            "Saving to: ‘boxing.zip’\n",
            "\n",
            "boxing.zip            1%[                    ]   3.21M  1.02MB/s    eta 2m 58s ^C\n",
            "--2022-10-10 05:04:19--  http://www.csc.kth.se/cvap/actions/handclapping.zip\n",
            "Resolving www.csc.kth.se (www.csc.kth.se)... 130.237.28.41, 2001:6b0:1:11c2::82ed:1c29\n",
            "Connecting to www.csc.kth.se (www.csc.kth.se)|130.237.28.41|:80... connected.\n",
            "HTTP request sent, awaiting response... 301 Moved Permanently\n",
            "Location: https://www.csc.kth.se/cvap/actions/handclapping.zip [following]\n",
            "--2022-10-10 05:04:20--  https://www.csc.kth.se/cvap/actions/handclapping.zip\n",
            "Connecting to www.csc.kth.se (www.csc.kth.se)|130.237.28.41|:443... connected.\n",
            "HTTP request sent, awaiting response... 200 OK\n",
            "Length: 176901831 (169M) [application/zip]\n",
            "Saving to: ‘handclapping.zip’\n",
            "\n",
            "handclapping.zip      2%[                    ]   4.99M  1.11MB/s    eta 2m 36s ^C\n",
            "--2022-10-10 05:04:25--  http://www.csc.kth.se/cvap/actions/handwaving.zip\n",
            "Resolving www.csc.kth.se (www.csc.kth.se)... 130.237.28.41, 2001:6b0:1:11c2::82ed:1c29\n",
            "Connecting to www.csc.kth.se (www.csc.kth.se)|130.237.28.41|:80... connected.\n",
            "HTTP request sent, awaiting response... 301 Moved Permanently\n",
            "Location: https://www.csc.kth.se/cvap/actions/handwaving.zip [following]\n",
            "--2022-10-10 05:04:25--  https://www.csc.kth.se/cvap/actions/handwaving.zip\n",
            "Connecting to www.csc.kth.se (www.csc.kth.se)|130.237.28.41|:443... connected.\n",
            "HTTP request sent, awaiting response... 200 OK\n",
            "Length: 218981954 (209M) [application/zip]\n",
            "Saving to: ‘handwaving.zip’\n",
            "\n",
            "handwaving.zip        0%[                    ] 983.04K   881KB/s               ^C\n",
            "--2022-10-10 05:04:27--  http://www.csc.kth.se/cvap/actions/jogging.zip\n",
            "Resolving www.csc.kth.se (www.csc.kth.se)... 130.237.28.41, 2001:6b0:1:11c2::82ed:1c29\n",
            "Connecting to www.csc.kth.se (www.csc.kth.se)|130.237.28.41|:80... connected.\n",
            "HTTP request sent, awaiting response... 301 Moved Permanently\n",
            "Location: https://www.csc.kth.se/cvap/actions/jogging.zip [following]\n",
            "--2022-10-10 05:04:28--  https://www.csc.kth.se/cvap/actions/jogging.zip\n",
            "Connecting to www.csc.kth.se (www.csc.kth.se)|130.237.28.41|:443... connected.\n",
            "HTTP request sent, awaiting response... 200 OK\n",
            "Length: 168961290 (161M) [application/zip]\n",
            "Saving to: ‘jogging.zip’\n",
            "\n",
            "jogging.zip           0%[                    ] 471.04K   703KB/s               ^C\n",
            "--2022-10-10 05:04:29--  http://www.csc.kth.se/cvap/actions/running.zip\n",
            "Resolving www.csc.kth.se (www.csc.kth.se)... 130.237.28.41, 2001:6b0:1:11c2::82ed:1c29\n",
            "Connecting to www.csc.kth.se (www.csc.kth.se)|130.237.28.41|:80... connected.\n",
            "HTTP request sent, awaiting response... 301 Moved Permanently\n",
            "Location: https://www.csc.kth.se/cvap/actions/running.zip [following]\n",
            "--2022-10-10 05:04:29--  https://www.csc.kth.se/cvap/actions/running.zip\n",
            "Connecting to www.csc.kth.se (www.csc.kth.se)|130.237.28.41|:443... connected.\n",
            "HTTP request sent, awaiting response... 200 OK\n",
            "Length: 149756643 (143M) [application/zip]\n",
            "Saving to: ‘running.zip’\n",
            "\n",
            "running.zip           0%[                    ]   1.21M   920KB/s               "
          ]
        }
      ],
      "source": [
        "!wget http://www.csc.kth.se/cvap/actions/boxing.zip\n",
        "!wget http://www.csc.kth.se/cvap/actions/handclapping.zip\n",
        "!wget http://www.csc.kth.se/cvap/actions/handwaving.zip\n",
        "!wget http://www.csc.kth.se/cvap/actions/jogging.zip\n",
        "!wget http://www.csc.kth.se/cvap/actions/running.zip\n",
        "!wget http://www.csc.kth.se/cvap/actions/walking.zip\n",
        "\n",
        "!unzip boxing.zip -d boxing\n",
        "!unzip handclapping.zip -d handclapping\n",
        "!unzip handwaving.zip -d handwaving\n",
        "!unzip jogging.zip -d jogging\n",
        "!unzip running.zip -d running\n",
        "!unzip walking.zip -d walking\n",
        "\n",
        "!rm *.zip"
      ]
    },
    {
      "cell_type": "code",
      "execution_count": null,
      "metadata": {
        "id": "FR6vUM3MxBX5"
      },
      "outputs": [],
      "source": [
        "import imageio\n",
        "import cv2\n",
        "import numpy as np\n",
        "import pandas as pd\n",
        "import os\n",
        "import pickle\n",
        "import re\n",
        "import cv2\n",
        "from PIL import Image\n",
        "\n",
        "CATEGORIES = [\n",
        "    \"boxing\",\n",
        "    \"handclapping\",\n",
        "    \"handwaving\",\n",
        "    \"jogging\",\n",
        "    \"running\",\n",
        "    \"walking\"\n",
        "]"
      ]
    },
    {
      "cell_type": "code",
      "execution_count": null,
      "metadata": {
        "id": "Rrsb7iJoxGvp"
      },
      "outputs": [],
      "source": [
        "def parse_sequence_file():\n",
        "    # print(\"Parsing ../dataset/00sequences.txt\")\n",
        "\n",
        "    # Read 00sequences.txt file.\n",
        "    with open('/content/drive/MyDrive/atm/00sequences.txt', 'r') as content_file:\n",
        "        content = content_file.read()\n",
        "\n",
        "    # Replace tab and newline character with space, then split file's content\n",
        "    # into strings.\n",
        "    content = re.sub(\"[\\t\\n]\", \" \", content).split()\n",
        "\n",
        "    # Dictionary to keep ranges of frames with humans.\n",
        "    # Example:\n",
        "    # video \"person01_boxing_d1\": [(1, 95), (96, 185), (186, 245), (246, 360)].\n",
        "    frames_idx = {}\n",
        "\n",
        "    # Current video that we are parsing.\n",
        "    current_filename = \"\"\n",
        "\n",
        "    for s in content:\n",
        "        if s == \"frames\":\n",
        "            # Ignore this token.\n",
        "            continue\n",
        "        elif s.find(\"-\") >= 0:\n",
        "            # This is the token we are looking for. e.g. 1-95.\n",
        "            if s[len(s) - 1] == ',':\n",
        "                # Remove comma.\n",
        "                s = s[:-1]\n",
        "\n",
        "            # Split into 2 numbers => [1, 95]\n",
        "            idx = s.split(\"-\")\n",
        "\n",
        "            # Add to dictionary.\n",
        "            if not current_filename in frames_idx:\n",
        "                frames_idx[current_filename] = []\n",
        "            frames_idx[current_filename].append((int(idx[0]), int(idx[1])))\n",
        "        else:\n",
        "            # Parse next file.\n",
        "            current_filename = s + \"_uncomp.avi\"\n",
        "\n",
        "    return frames_idx\n"
      ]
    },
    {
      "cell_type": "markdown",
      "metadata": {
        "id": "4pYftnZrhjM9"
      },
      "source": [
        "## Extracting Spatio temporal features from videos"
      ]
    },
    {
      "cell_type": "code",
      "execution_count": null,
      "metadata": {
        "colab": {
          "base_uri": "https://localhost:8080/"
        },
        "id": "QM3Ny2ClchsW",
        "outputId": "b490b612-1248-42b7-b745-fb478f61f3b5"
      },
      "outputs": [
        {
          "name": "stdout",
          "output_type": "stream",
          "text": [
            "Looking in indexes: https://pypi.org/simple, https://us-python.pkg.dev/colab-wheels/public/simple/\n",
            "Requirement already satisfied: imageio-ffmpeg in /usr/local/lib/python3.7/dist-packages (0.4.7)\n"
          ]
        }
      ],
      "source": [
        "pip install imageio-ffmpeg"
      ]
    },
    {
      "cell_type": "code",
      "execution_count": null,
      "metadata": {
        "colab": {
          "base_uri": "https://localhost:8080/",
          "height": 321
        },
        "id": "XlDWB0ukQEPi",
        "outputId": "61698c88-0132-4440-911a-a6aed97dd382"
      },
      "outputs": [
        {
          "ename": "FileNotFoundError",
          "evalue": "ignored",
          "output_type": "error",
          "traceback": [
            "\u001b[0;31m---------------------------------------------------------------------------\u001b[0m",
            "\u001b[0;31mFileNotFoundError\u001b[0m                         Traceback (most recent call last)",
            "\u001b[0;32m<ipython-input-8-43ba215625e4>\u001b[0m in \u001b[0;36m<module>\u001b[0;34m\u001b[0m\n\u001b[1;32m     49\u001b[0m     \u001b[0mpickle\u001b[0m\u001b[0;34m.\u001b[0m\u001b[0mdump\u001b[0m\u001b[0;34m(\u001b[0m\u001b[0mdata\u001b[0m\u001b[0;34m,\u001b[0m \u001b[0mopen\u001b[0m\u001b[0;34m(\u001b[0m\u001b[0;34m\"drive/MyDrive/atm/%s.p\"\u001b[0m \u001b[0;34m%\u001b[0m \u001b[0mdataset\u001b[0m\u001b[0;34m,\u001b[0m \u001b[0;34m\"wb\"\u001b[0m\u001b[0;34m)\u001b[0m\u001b[0;34m)\u001b[0m\u001b[0;34m\u001b[0m\u001b[0;34m\u001b[0m\u001b[0m\n\u001b[1;32m     50\u001b[0m \u001b[0;34m\u001b[0m\u001b[0m\n\u001b[0;32m---> 51\u001b[0;31m \u001b[0mmake_raw_dataset\u001b[0m\u001b[0;34m(\u001b[0m\u001b[0mdataset\u001b[0m\u001b[0;34m=\u001b[0m\u001b[0;34m\"train\"\u001b[0m\u001b[0;34m)\u001b[0m\u001b[0;34m\u001b[0m\u001b[0;34m\u001b[0m\u001b[0m\n\u001b[0m",
            "\u001b[0;32m<ipython-input-8-43ba215625e4>\u001b[0m in \u001b[0;36mmake_raw_dataset\u001b[0;34m(dataset)\u001b[0m\n\u001b[1;32m      8\u001b[0m         \u001b[0;31m# Get all files in current category's folder.\u001b[0m\u001b[0;34m\u001b[0m\u001b[0;34m\u001b[0m\u001b[0;34m\u001b[0m\u001b[0m\n\u001b[1;32m      9\u001b[0m         \u001b[0mfolder_path\u001b[0m \u001b[0;34m=\u001b[0m  \u001b[0mcategory\u001b[0m\u001b[0;34m\u001b[0m\u001b[0;34m\u001b[0m\u001b[0m\n\u001b[0;32m---> 10\u001b[0;31m         \u001b[0mfilenames\u001b[0m \u001b[0;34m=\u001b[0m \u001b[0msorted\u001b[0m\u001b[0;34m(\u001b[0m\u001b[0mos\u001b[0m\u001b[0;34m.\u001b[0m\u001b[0mlistdir\u001b[0m\u001b[0;34m(\u001b[0m\u001b[0mfolder_path\u001b[0m\u001b[0;34m)\u001b[0m\u001b[0;34m)\u001b[0m\u001b[0;34m\u001b[0m\u001b[0;34m\u001b[0m\u001b[0m\n\u001b[0m\u001b[1;32m     11\u001b[0m \u001b[0;34m\u001b[0m\u001b[0m\n\u001b[1;32m     12\u001b[0m         \u001b[0;32mfor\u001b[0m \u001b[0mfilename\u001b[0m \u001b[0;32min\u001b[0m \u001b[0mfilenames\u001b[0m\u001b[0;34m:\u001b[0m\u001b[0;34m\u001b[0m\u001b[0;34m\u001b[0m\u001b[0m\n",
            "\u001b[0;31mFileNotFoundError\u001b[0m: [Errno 2] No such file or directory: 'boxing'"
          ]
        }
      ],
      "source": [
        "def make_raw_dataset(dataset=\"train\"):\n",
        "\n",
        "    frames_idx = parse_sequence_file()\n",
        "\n",
        "    data = []\n",
        "\n",
        "    for category in CATEGORIES:\n",
        "        # Get all files in current category's folder.\n",
        "        folder_path =  category\n",
        "        filenames = sorted(os.listdir(folder_path))\n",
        "        \n",
        "        for filename in filenames:\n",
        "            \n",
        "            filepath = os.path.join( category, filename)\n",
        "            #print(filepath)\n",
        "            # Get id of person in this video.\n",
        "            person_id = int(filename.split(\"_\")[0][6:])\n",
        "\n",
        "            vid = imageio.get_reader(filepath, \"ffmpeg\")\n",
        "\n",
        "            frames = []\n",
        "\n",
        "            # Add each frame to correct list.\n",
        "            for i, frame in enumerate(vid):\n",
        "                # Boolean flag to check if current frame contains human.\n",
        "                ok = False\n",
        "                for seg in frames_idx[filename]:\n",
        "                    if i >= seg[0] and i <= seg[1]:\n",
        "                        ok = True\n",
        "                        break\n",
        "                if not ok:\n",
        "                    continue\n",
        "\n",
        "                # Convert to grayscale.\n",
        "                frame = Image.fromarray(np.array(frame))\n",
        "                frame = frame.convert(\"L\")\n",
        "                frame = np.array(frame.getdata(),\n",
        "                                 dtype=np.float32).reshape((120, 160))\n",
        "                frame = np.array(Image.fromarray(frame).resize((12, 32)))\n",
        "\n",
        "                frames.append(frame)\n",
        "\n",
        "            data.append({\n",
        "                \"filename\": filename,\n",
        "                \"category\": category,\n",
        "                \"frames\": frames    \n",
        "            })\n",
        "\n",
        "    pickle.dump(data, open(\"drive/MyDrive/atm/%s.p\" % dataset, \"wb\"))\n",
        "\n",
        "make_raw_dataset(dataset=\"train\")"
      ]
    },
    {
      "cell_type": "code",
      "execution_count": null,
      "metadata": {
        "id": "GDtoAd_KxWwg"
      },
      "outputs": [],
      "source": [
        "train = pickle.load(open(\"drive/MyDrive/atm/train.p\", \"rb\"))"
      ]
    },
    {
      "cell_type": "code",
      "execution_count": null,
      "metadata": {
        "colab": {
          "base_uri": "https://localhost:8080/"
        },
        "id": "jl1cvzhQxZAw",
        "outputId": "3fdee949-486c-49a2-99d3-0c84eda55da3"
      },
      "outputs": [
        {
          "name": "stdout",
          "output_type": "stream",
          "text": [
            "(74672, 384)\n"
          ]
        }
      ],
      "source": [
        "train_fea = []\n",
        "for i in train:\n",
        "    for j in i[\"frames\"]:\n",
        "        train_fea.append(j)\n",
        "\n",
        "train_fea = np.array(train_fea).reshape(-1,384)\n",
        "print(train_fea.shape)\n",
        "\n",
        "from sklearn.preprocessing import minmax_scale\n",
        "train_fea = minmax_scale(train_fea-train_fea.mean(), feature_range=(-1,1))\n",
        "\n",
        "train_fea = pd.DataFrame(train_fea[:74481])\n"
      ]
    },
    {
      "cell_type": "markdown",
      "metadata": {
        "id": "aI4MhBM5xMfS"
      },
      "source": [
        "## Extracting Optical flow Features from videos"
      ]
    },
    {
      "cell_type": "code",
      "execution_count": null,
      "metadata": {
        "colab": {
          "base_uri": "https://localhost:8080/",
          "height": 321
        },
        "id": "Uw0VILU2KWRh",
        "outputId": "07cf6a22-cdef-4792-f150-0385e368a5fe"
      },
      "outputs": [
        {
          "ename": "FileNotFoundError",
          "evalue": "ignored",
          "output_type": "error",
          "traceback": [
            "\u001b[0;31m---------------------------------------------------------------------------\u001b[0m",
            "\u001b[0;31mFileNotFoundError\u001b[0m                         Traceback (most recent call last)",
            "\u001b[0;32m<ipython-input-7-b9bff2930bf5>\u001b[0m in \u001b[0;36m<module>\u001b[0;34m\u001b[0m\n\u001b[1;32m     74\u001b[0m     \u001b[0mpickle\u001b[0m\u001b[0;34m.\u001b[0m\u001b[0mdump\u001b[0m\u001b[0;34m(\u001b[0m\u001b[0mdata\u001b[0m\u001b[0;34m,\u001b[0m \u001b[0mopen\u001b[0m\u001b[0;34m(\u001b[0m\u001b[0;34m\"drive/MyDrive/atm/%s_flow.p\"\u001b[0m \u001b[0;34m%\u001b[0m \u001b[0mdataset\u001b[0m\u001b[0;34m,\u001b[0m \u001b[0;34m\"wb\"\u001b[0m\u001b[0;34m)\u001b[0m\u001b[0;34m)\u001b[0m\u001b[0;34m\u001b[0m\u001b[0;34m\u001b[0m\u001b[0m\n\u001b[1;32m     75\u001b[0m \u001b[0;34m\u001b[0m\u001b[0m\n\u001b[0;32m---> 76\u001b[0;31m \u001b[0mmake_optflow_dataset\u001b[0m\u001b[0;34m(\u001b[0m\u001b[0mdataset\u001b[0m\u001b[0;34m=\u001b[0m\u001b[0;34m\"train\"\u001b[0m\u001b[0;34m)\u001b[0m\u001b[0;34m\u001b[0m\u001b[0;34m\u001b[0m\u001b[0m\n\u001b[0m",
            "\u001b[0;32m<ipython-input-7-b9bff2930bf5>\u001b[0m in \u001b[0;36mmake_optflow_dataset\u001b[0;34m(dataset)\u001b[0m\n\u001b[1;32m     14\u001b[0m         \u001b[0;31m# Get all files in current category's folder.\u001b[0m\u001b[0;34m\u001b[0m\u001b[0;34m\u001b[0m\u001b[0;34m\u001b[0m\u001b[0m\n\u001b[1;32m     15\u001b[0m         \u001b[0mfolder_path\u001b[0m \u001b[0;34m=\u001b[0m \u001b[0mcategory\u001b[0m\u001b[0;34m\u001b[0m\u001b[0;34m\u001b[0m\u001b[0m\n\u001b[0;32m---> 16\u001b[0;31m         \u001b[0mfilenames\u001b[0m \u001b[0;34m=\u001b[0m \u001b[0msorted\u001b[0m\u001b[0;34m(\u001b[0m\u001b[0mos\u001b[0m\u001b[0;34m.\u001b[0m\u001b[0mlistdir\u001b[0m\u001b[0;34m(\u001b[0m\u001b[0mfolder_path\u001b[0m\u001b[0;34m)\u001b[0m\u001b[0;34m)\u001b[0m\u001b[0;34m\u001b[0m\u001b[0;34m\u001b[0m\u001b[0m\n\u001b[0m\u001b[1;32m     17\u001b[0m \u001b[0;34m\u001b[0m\u001b[0m\n\u001b[1;32m     18\u001b[0m         \u001b[0;32mfor\u001b[0m \u001b[0mfilename\u001b[0m \u001b[0;32min\u001b[0m \u001b[0mfilenames\u001b[0m\u001b[0;34m:\u001b[0m\u001b[0;34m\u001b[0m\u001b[0;34m\u001b[0m\u001b[0m\n",
            "\u001b[0;31mFileNotFoundError\u001b[0m: [Errno 2] No such file or directory: 'boxing'"
          ]
        }
      ],
      "source": [
        "def make_optflow_dataset(dataset=\"train\"):\n",
        "\n",
        "    # Setup parameters for optical flow.\n",
        "    farneback_params = dict(\n",
        "        winsize=20, iterations=1,\n",
        "        flags=cv2.OPTFLOW_FARNEBACK_GAUSSIAN, levels=1,\n",
        "        pyr_scale=0.5, poly_n=5, poly_sigma=1.1, flow=None)\n",
        "\n",
        "    frames_idx = parse_sequence_file()\n",
        "\n",
        "    data = []\n",
        "\n",
        "    for category in CATEGORIES:\n",
        "        # Get all files in current category's folder.\n",
        "        folder_path = category\n",
        "        filenames = sorted(os.listdir(folder_path))\n",
        "\n",
        "        for filename in filenames:\n",
        "            filepath = os.path.join( category, filename)\n",
        "\n",
        "            # Get id of person in this video.\n",
        "            person_id = int(filename.split(\"_\")[0][6:])\n",
        "\n",
        "            vid = imageio.get_reader(filepath, \"ffmpeg\")\n",
        "\n",
        "            flow_x = []\n",
        "            flow_y = []\n",
        "\n",
        "            prev_frame = None\n",
        "            # Add each frame to correct list.\n",
        "            for i, frame in enumerate(vid):\n",
        "                # Boolean flag to check if current frame contains human.\n",
        "                ok = False\n",
        "                for seg in frames_idx[filename]:\n",
        "                    if i >= seg[0] and i <= seg[1]:\n",
        "                        ok = True\n",
        "                        break\n",
        "                if not ok:\n",
        "                    continue\n",
        "                \n",
        "                # Convert to grayscale.\n",
        "                frames = Image.fromarray(np.array(frame))\n",
        "                frames = frames.convert(\"L\")\n",
        "                frames = np.array(frames.getdata(),\n",
        "                                 dtype=np.float32).reshape((120, 160))\n",
        "                frames = np.array(Image.fromarray(frames).resize((60, 80)))\n",
        "                #print(frame.shape[1])\n",
        "                #print(frame.shape[0])\n",
        "                if prev_frame is not None:\n",
        "                    # Calculate optical flow.\n",
        "                    flows = cv2.calcOpticalFlowFarneback(prev_frame, frames, **farneback_params)\n",
        "                    \n",
        "                    \n",
        "                    subsampled_x = np.zeros((32, 12), dtype=np.float32)\n",
        "                    subsampled_y = np.zeros((32, 12), dtype=np.float32)\n",
        "                    # print(subsampled_x)\n",
        "                    for r in range(32):\n",
        "                        for c in range(12):\n",
        "                            subsampled_x[r, c] = flows[r*2, c*2, 0]\n",
        "                            subsampled_y[r, c] = flows[r*2, c*2, 1]\n",
        "                              \n",
        "                    flow_x.append(subsampled_x)\n",
        "                    flow_y.append(subsampled_y)\n",
        "\n",
        "                prev_frame = frames\n",
        "\n",
        "            data.append({\n",
        "                \"filename\": filename,\n",
        "                \"category\": category,\n",
        "                \"flow_x\": flow_x,\n",
        "                \"flow_y\": flow_y    \n",
        "            })\n",
        "\n",
        "    pickle.dump(data, open(\"drive/MyDrive/atm/%s_flow.p\" % dataset, \"wb\"))\n",
        "\n",
        "make_optflow_dataset(dataset=\"train\")"
      ]
    },
    {
      "cell_type": "code",
      "execution_count": null,
      "metadata": {
        "id": "QD_mw9GdkkGL"
      },
      "outputs": [],
      "source": [
        "train_flow = pickle.load(open(\"drive/MyDrive/atm/train_flow.p\", \"rb\"))"
      ]
    },
    {
      "cell_type": "code",
      "execution_count": null,
      "metadata": {
        "colab": {
          "base_uri": "https://localhost:8080/"
        },
        "id": "hUR4dUCv4YqA",
        "outputId": "d7a153a6-b567-4095-c0b2-5261aea2e906"
      },
      "outputs": [
        {
          "name": "stdout",
          "output_type": "stream",
          "text": [
            "(74481, 384)\n",
            "(74481, 384)\n"
          ]
        }
      ],
      "source": [
        "train_flowx_fea = []\n",
        "for i in train_flow:\n",
        "    for j in i[\"flow_x\"]:\n",
        "        train_flowx_fea.append(j)\n",
        "\n",
        "train_flowx_fea = np.array(train_flowx_fea).reshape(-1,384)\n",
        "print(train_flowx_fea.shape)\n",
        "# train_flowx_fea = minmax_scale(train_flowx_fea-train_flowx_fea.mean(), feature_range=(-1,1))\n",
        "train_flowx_fea = pd.DataFrame(train_flowx_fea)\n",
        "\n",
        "\n",
        "train_flowy_fea = []\n",
        "for i in train_flow:\n",
        "    for j in i[\"flow_y\"]:\n",
        "        train_flowy_fea.append(j)\n",
        "\n",
        "train_flowy_fea = np.array(train_flowy_fea).reshape(-1,384)\n",
        "print(train_flowy_fea.shape)\n",
        "# train_flowy_fea = minmax_scale(train_flowy_fea-train_flowy_fea.mean(), feature_range=(-1,1))\n",
        "train_flowy_fea = pd.DataFrame(train_flowy_fea)\n"
      ]
    },
    {
      "cell_type": "code",
      "execution_count": null,
      "metadata": {
        "id": "MoN3xSaldlN-"
      },
      "outputs": [],
      "source": [
        "df = pd.concat([train_fea, train_flowx_fea, train_flowy_fea], axis=1, ignore_index=True)"
      ]
    },
    {
      "cell_type": "code",
      "execution_count": null,
      "metadata": {
        "id": "nBQgm4nQ_w3c"
      },
      "outputs": [],
      "source": [
        "box = list(range(15027))\n",
        "cla = list(range(15027, 28128))\n",
        "wav = list(range(28128, 44542))\n",
        "jog = list(range(44542, 53420))\n",
        "run = list(range(53420, 59726))\n",
        "wal = list(range(59726, 74481))\n",
        "\n",
        "df.loc[box,'label'] = 0\n",
        "df.loc[cla,'label'] = 1\n",
        "df.loc[wav,'label'] = 2\n",
        "df.loc[jog,'label'] = 3\n",
        "df.loc[run,'label'] = 4\n",
        "df.loc[wal,'label'] = 5"
      ]
    },
    {
      "cell_type": "code",
      "execution_count": null,
      "metadata": {
        "id": "q3YSa6n2pQdC"
      },
      "outputs": [],
      "source": [
        "# filling nan values\n",
        "df = df.fillna(0)"
      ]
    },
    {
      "cell_type": "code",
      "execution_count": null,
      "metadata": {
        "colab": {
          "base_uri": "https://localhost:8080/"
        },
        "id": "CfuiHf31AfC0",
        "outputId": "1ae83686-86b5-4369-9b10-4257d0b61e51"
      },
      "outputs": [
        {
          "name": "stdout",
          "output_type": "stream",
          "text": [
            "(74481, 1152)\n",
            "(74481, 6)\n"
          ]
        }
      ],
      "source": [
        "X = df.iloc[:, :-1]\n",
        "Y = df.iloc[:,-1]\n",
        "\n",
        "from keras.utils import np_utils\n",
        "Y = np_utils.to_categorical(Y)\n",
        "\n",
        "print(X.shape)\n",
        "print(Y.shape)"
      ]
    },
    {
      "cell_type": "markdown",
      "metadata": {
        "id": "i_bm79KYsbDu"
      },
      "source": [
        "### Triple stacked autoencoders"
      ]
    },
    {
      "cell_type": "code",
      "execution_count": null,
      "metadata": {
        "colab": {
          "base_uri": "https://localhost:8080/"
        },
        "id": "flzvZPYZ8os8",
        "outputId": "37ef4bc7-8979-453d-ed95-e2ae2d732613"
      },
      "outputs": [
        {
          "name": "stdout",
          "output_type": "stream",
          "text": [
            "Epoch 1/5\n",
            "4656/4656 [==============================] - 42s 9ms/step - loss: 0.0862\n",
            "Epoch 2/5\n",
            "4656/4656 [==============================] - 42s 9ms/step - loss: 0.0817\n",
            "Epoch 3/5\n",
            "4656/4656 [==============================] - 42s 9ms/step - loss: 0.0809\n",
            "Epoch 4/5\n",
            "4656/4656 [==============================] - 42s 9ms/step - loss: 0.0805\n",
            "Epoch 5/5\n",
            "4656/4656 [==============================] - 43s 9ms/step - loss: 0.0803\n",
            "Epoch 1/5\n",
            "4656/4656 [==============================] - 56s 12ms/step - loss: 0.0421\n",
            "Epoch 2/5\n",
            "4656/4656 [==============================] - 56s 12ms/step - loss: 0.0418\n",
            "Epoch 3/5\n",
            "4656/4656 [==============================] - 56s 12ms/step - loss: 0.0417\n",
            "Epoch 4/5\n",
            "4656/4656 [==============================] - 57s 12ms/step - loss: 0.0416\n",
            "Epoch 5/5\n",
            "4656/4656 [==============================] - 59s 13ms/step - loss: 0.0415\n",
            "Epoch 1/5\n",
            "4656/4656 [==============================] - 79s 17ms/step - loss: 0.0223\n",
            "Epoch 2/5\n",
            "4656/4656 [==============================] - 79s 17ms/step - loss: 0.0222\n",
            "Epoch 3/5\n",
            "4656/4656 [==============================] - 78s 17ms/step - loss: 0.0222\n",
            "Epoch 4/5\n",
            "4656/4656 [==============================] - 78s 17ms/step - loss: 0.0222\n",
            "Epoch 5/5\n",
            "4656/4656 [==============================] - 78s 17ms/step - loss: 0.0222\n"
          ]
        }
      ],
      "source": [
        "from keras.layers import Input, Dense\n",
        "from keras.models import Model\n",
        "from tensorflow.python.keras import regularizers\n",
        "\n",
        "batch_size = 16\n",
        "input_dim = 1152 #num of predictor variables\n",
        "learning_rate = 1e-5\n",
        "input_layer = Input(shape=(input_dim, ), name=\"input\")\n",
        "#Input Layer\n",
        "encoder = Dense (1000, activation=\"relu\", activity_regularizer=regularizers.l1(learning_rate))(input_layer)\n",
        "\n",
        "# Output Layer\n",
        "decoder = Dense(input_dim, activation=\"sigmoid\", activity_regularizer=regularizers.l1(learning_rate))(encoder)\n",
        "\n",
        "autoencoder_1 = Model(inputs=input_layer, outputs=decoder)\n",
        "autoencoder_1.compile(loss='mean_squared_error',optimizer='adam')\n",
        "stack_1 = autoencoder_1.fit(X, X,epochs=5,batch_size=batch_size)\n",
        "\n",
        "autoencoder_2_input = autoencoder_1.predict(X)\n",
        "autoencoder_2_input = np.concatenate((autoencoder_2_input , X))\n",
        "\n",
        "autoencoder_2 = Model(inputs=input_layer, outputs=decoder)\n",
        "autoencoder_2.compile(loss='mean_squared_error',optimizer='adam')\n",
        "stack_2 = autoencoder_2.fit(autoencoder_2_input, autoencoder_2_input,epochs=5,batch_size=32)\n",
        "\n",
        "autoencoder_3_input = autoencoder_2.predict(autoencoder_2_input)\n",
        "autoencoder_3_input = np.concatenate((autoencoder_3_input, autoencoder_2_input))\\\n",
        "\n",
        "autoencoder_3 = Model(inputs=input_layer, outputs=decoder)\n",
        "autoencoder_3.compile(loss='mean_squared_error', optimizer='adam')\n",
        "stack_3 = autoencoder_3.fit(autoencoder_3_input, autoencoder_3_input, epochs=5, batch_size=64)\n"
      ]
    },
    {
      "cell_type": "markdown",
      "metadata": {
        "id": "ImiZeuWJtXh3"
      },
      "source": [
        "### Make BoW vector for every video frame"
      ]
    },
    {
      "cell_type": "code",
      "execution_count": null,
      "metadata": {
        "colab": {
          "base_uri": "https://localhost:8080/"
        },
        "id": "zxxhHYKZSSgZ",
        "outputId": "a3e0cf2b-41e9-49f0-863f-4d8a1a012e77"
      },
      "outputs": [
        {
          "name": "stdout",
          "output_type": "stream",
          "text": [
            "Make bow vector for each frame\n"
          ]
        },
        {
          "name": "stderr",
          "output_type": "stream",
          "text": [
            "/usr/local/lib/python3.7/dist-packages/ipykernel_launcher.py:15: DeprecationWarning: `np.float` is a deprecated alias for the builtin `float`. To silence this warning, use `float` by itself. Doing this will not modify any behavior and is safe. If you specifically wanted the numpy scalar type, use `np.float64` here.\n",
            "Deprecated in NumPy 1.20; for more details and guidance: https://numpy.org/devdocs/release/1.20.0-notes.html#deprecations\n",
            "  from ipykernel import kernelapp as app\n"
          ]
        },
        {
          "name": "stdout",
          "output_type": "stream",
          "text": [
            "Applying TF-IDF weighting\n"
          ]
        }
      ],
      "source": [
        "import argparse\n",
        "import numpy as np\n",
        "import os\n",
        "import pickle\n",
        "\n",
        "from scipy.cluster.vq import vq\n",
        "\n",
        "def make_bow(dataset, clusters, tfidf):\n",
        "    print(\"Make bow vector for each frame\")\n",
        "\n",
        "    # Count total number of frames.\n",
        "    n_frames = len(dataset)\n",
        "\n",
        "    # Init bow vectors for all frames.\n",
        "    bow = np.zeros((n_frames, clusters.shape[1]), dtype=np.float)\n",
        "\n",
        "    # Check whether to use TF-IDF weighting.\n",
        "    if tfidf:\n",
        "        print(\"Applying TF-IDF weighting\")\n",
        "        freq = np.sum((bow > 0) * 1, axis = 0)\n",
        "        idf = np.log((n_frames + 1) / (freq + 1))\n",
        "        bow = dataset * idf\n",
        "\n",
        "    return bow\n",
        "\n",
        "if __name__ == \"__main__\":\n",
        "\n",
        "    tfidf = 1\n",
        "    clus = autoencoder_3.predict(X)\n",
        "    \n",
        "    # Load clusters.\n",
        "    clusters = clus\n",
        "\n",
        "    # Load dataset.\n",
        "    dataset = clus\n",
        "\n",
        "    # Make bow vectors.\n",
        "    dataset_bow = make_bow(dataset, clusters, tfidf)\n"
      ]
    },
    {
      "cell_type": "markdown",
      "metadata": {
        "id": "_7KXO7a7SMsi"
      },
      "source": [
        "### VGG"
      ]
    },
    {
      "cell_type": "code",
      "execution_count": null,
      "metadata": {
        "id": "LG_ltK_y1nIH"
      },
      "outputs": [],
      "source": [
        "# partition the data into training and testing splits using 80% of\n",
        "# the data for training and the remaining 20% for testing\n",
        "from sklearn.model_selection import train_test_split\n",
        "(X_train, X_test, Y_train, Y_test) = train_test_split(dataset_bow, Y,\n",
        "\ttest_size=0.20, random_state=42)"
      ]
    },
    {
      "cell_type": "code",
      "execution_count": null,
      "metadata": {
        "id": "sqIWdM2FGR7n"
      },
      "outputs": [],
      "source": [
        "import tensorflow as tf\n",
        "from keras.models import Sequential\n",
        "from keras.layers import Dense, Dropout\n",
        "from tensorflow.keras.layers import BatchNormalization, Conv2D, Activation, MaxPooling2D, Flatten, Bidirectional, LSTM, MaxPool2D\n",
        "from tensorflow.keras.optimizers import Adam, SGD, RMSprop\n",
        "from tensorflow.keras import backend as K\n",
        "from keras.models import load_model"
      ]
    },
    {
      "cell_type": "code",
      "execution_count": null,
      "metadata": {
        "id": "wAX6xhXWI-iU"
      },
      "outputs": [],
      "source": [
        "def Conv_1D_Block(x, model_width, kernel):\n",
        "    # 1D Convolutional Block with BatchNormalization\n",
        "    x = tf.keras.layers.Conv1D(model_width, kernel, padding='same', kernel_initializer=\"he_normal\")(x)\n",
        "    x = tf.keras.layers.BatchNormalization()(x)\n",
        "    x = tf.keras.layers.Activation('relu')(x)\n",
        "\n",
        "    return x\n",
        "\n",
        "class VGG:\n",
        "    def __init__(self, length, num_channel, num_filters, problem_type='Regression', output_nums=1, dropout_rate=False):\n",
        "        self.length = length\n",
        "        self.num_channel = num_channel\n",
        "        self.num_filters = num_filters\n",
        "        self.problem_type = problem_type\n",
        "        self.output_nums = output_nums\n",
        "        self.dropout_rate = dropout_rate\n",
        "\n",
        "    def VGG19(self):\n",
        "        inputs = tf.keras.Input((self.length, self.num_channel))  # The input tensor\n",
        "        # Block 1\n",
        "        x = Conv_1D_Block(inputs, self.num_filters * (2 ** 0), 3)\n",
        "        x = Conv_1D_Block(x, self.num_filters * (2 ** 0), 3)\n",
        "        if x.shape[1] <= 2:\n",
        "            x = tf.keras.layers.MaxPooling1D(pool_size=1, strides=2, padding=\"valid\")(x)\n",
        "        else:\n",
        "            x = tf.keras.layers.MaxPooling1D(pool_size=2, strides=2, padding=\"valid\")(x)\n",
        "\n",
        "        # Block 2\n",
        "        x = Conv_1D_Block(x, self.num_filters * (2 ** 1), 3)\n",
        "        x = Conv_1D_Block(x, self.num_filters * (2 ** 1), 3)\n",
        "        if x.shape[1] <= 2:\n",
        "            x = tf.keras.layers.MaxPooling1D(pool_size=1, strides=2, padding=\"valid\")(x)\n",
        "        else:\n",
        "            x = tf.keras.layers.MaxPooling1D(pool_size=2, strides=2, padding=\"valid\")(x)\n",
        "\n",
        "        # Block 3\n",
        "        x = Conv_1D_Block(x, self.num_filters * (2 ** 2), 3)\n",
        "        x = Conv_1D_Block(x, self.num_filters * (2 ** 2), 3)\n",
        "        x = Conv_1D_Block(x, self.num_filters * (2 ** 2), 3)\n",
        "        x = Conv_1D_Block(x, self.num_filters * (2 ** 2), 3)\n",
        "        if x.shape[1] <= 2:\n",
        "            x = tf.keras.layers.MaxPooling1D(pool_size=1, strides=2, padding=\"valid\")(x)\n",
        "        else:\n",
        "            x = tf.keras.layers.MaxPooling1D(pool_size=2, strides=2, padding=\"valid\")(x)\n",
        "\n",
        "        # Block 4\n",
        "        x = Conv_1D_Block(x, self.num_filters * (2 ** 3), 3)\n",
        "        x = Conv_1D_Block(x, self.num_filters * (2 ** 3), 3)\n",
        "        x = Conv_1D_Block(x, self.num_filters * (2 ** 3), 3)\n",
        "        x = Conv_1D_Block(x, self.num_filters * (2 ** 3), 3)\n",
        "        if x.shape[1] <= 2:\n",
        "            x = tf.keras.layers.MaxPooling1D(pool_size=1, strides=2, padding=\"valid\")(x)\n",
        "        else:\n",
        "            x = tf.keras.layers.MaxPooling1D(pool_size=2, strides=2, padding=\"valid\")(x)\n",
        "\n",
        "        # Block 5\n",
        "        x = Conv_1D_Block(x, self.num_filters * (2 ** 3), 3)\n",
        "        x = Conv_1D_Block(x, self.num_filters * (2 ** 3), 3)\n",
        "        x = Conv_1D_Block(x, self.num_filters * (2 ** 3), 3)\n",
        "        x = Conv_1D_Block(x, self.num_filters * (2 ** 3), 3)\n",
        "        if x.shape[1] <= 2:\n",
        "            x = tf.keras.layers.MaxPooling1D(pool_size=1, strides=2, padding=\"valid\")(x)\n",
        "        else:\n",
        "            x = tf.keras.layers.MaxPooling1D(pool_size=2, strides=2, padding=\"valid\")(x)\n",
        "\n",
        "        # Fully Connected (MLP) block\n",
        "        x = tf.keras.layers.Flatten(name='flatten')(x)\n",
        "        x = tf.keras.layers.Dense(2500, activation='relu')(x)\n",
        "        if self.dropout_rate:\n",
        "            x = tf.keras.layers.Dropout(self.dropout_rate, name='Dropout')(x)\n",
        "        outputs = tf.keras.layers.Dense(self.output_nums, activation='softmax')(x)\n",
        "        if self.problem_type == 'Classification':\n",
        "            outputs = tf.keras.layers.Dense(self.output_nums, activation='softmax')(x)\n",
        "\n",
        "        # Create model.\n",
        "        model = tf.keras.Model(inputs=inputs, outputs=outputs)\n",
        "\n",
        "        return model\n",
        "\n",
        "model = VGG(length=1152, num_channel=1, num_filters=16, problem_type=\"Classification\", output_nums=6, dropout_rate=0.3).VGG19()\n",
        "\n",
        "from keras.callbacks import ModelCheckpoint, EarlyStopping\n",
        "early = EarlyStopping(monitor='accuracy', min_delta=0, patience=3, verbose=1, mode='auto')\n",
        "checkpoint_filepath=\"/content/drive/MyDrive/atm/vgg19_weight/vgg19.h5\"\n",
        "checkpoint = ModelCheckpoint(checkpoint_filepath, monitor='val_accuracy', verbose=1, save_best_only=True, mode='max')\n"
      ]
    },
    {
      "cell_type": "code",
      "execution_count": null,
      "metadata": {
        "colab": {
          "base_uri": "https://localhost:8080/"
        },
        "id": "1ZDtxgfzbami",
        "outputId": "0cfab0b3-9c9e-4c65-ff80-bca1999a695e"
      },
      "outputs": [
        {
          "name": "stdout",
          "output_type": "stream",
          "text": [
            "Epoch 1/20\n",
            "1490/1490 [==============================] - ETA: 0s - loss: 0.7545 - accuracy: 0.6962\n",
            "Epoch 1: val_accuracy improved from -inf to 0.75767, saving model to /content/drive/MyDrive/atm/vgg19_weight/vgg19.h5\n",
            "1490/1490 [==============================] - 614s 379ms/step - loss: 0.7545 - accuracy: 0.6962 - val_loss: 0.5728 - val_accuracy: 0.7577\n",
            "Epoch 2/20\n",
            "1490/1490 [==============================] - ETA: 0s - loss: 0.5319 - accuracy: 0.7773\n",
            "Epoch 2: val_accuracy improved from 0.75767 to 0.79070, saving model to /content/drive/MyDrive/atm/vgg19_weight/vgg19.h5\n",
            "1490/1490 [==============================] - 582s 390ms/step - loss: 0.5319 - accuracy: 0.7773 - val_loss: 0.5156 - val_accuracy: 0.7907\n",
            "Epoch 3/20\n",
            "1490/1490 [==============================] - ETA: 0s - loss: 0.4443 - accuracy: 0.8143\n",
            "Epoch 3: val_accuracy improved from 0.79070 to 0.80358, saving model to /content/drive/MyDrive/atm/vgg19_weight/vgg19.h5\n",
            "1490/1490 [==============================] - 571s 383ms/step - loss: 0.4443 - accuracy: 0.8143 - val_loss: 0.4577 - val_accuracy: 0.8036\n",
            "Epoch 4/20\n",
            "1490/1490 [==============================] - ETA: 0s - loss: 0.3886 - accuracy: 0.8369\n",
            "Epoch 4: val_accuracy improved from 0.80358 to 0.83399, saving model to /content/drive/MyDrive/atm/vgg19_weight/vgg19.h5\n",
            "1490/1490 [==============================] - 569s 382ms/step - loss: 0.3886 - accuracy: 0.8369 - val_loss: 0.4013 - val_accuracy: 0.8340\n",
            "Epoch 5/20\n",
            "1490/1490 [==============================] - ETA: 0s - loss: 0.3482 - accuracy: 0.8540\n",
            "Epoch 5: val_accuracy improved from 0.83399 to 0.84588, saving model to /content/drive/MyDrive/atm/vgg19_weight/vgg19.h5\n",
            "1490/1490 [==============================] - 568s 381ms/step - loss: 0.3482 - accuracy: 0.8540 - val_loss: 0.3706 - val_accuracy: 0.8459\n",
            "Epoch 6/20\n",
            "1490/1490 [==============================] - ETA: 0s - loss: 0.3099 - accuracy: 0.8716\n",
            "Epoch 6: val_accuracy did not improve from 0.84588\n",
            "1490/1490 [==============================] - 570s 382ms/step - loss: 0.3099 - accuracy: 0.8716 - val_loss: 0.4171 - val_accuracy: 0.8313\n",
            "Epoch 7/20\n",
            "1490/1490 [==============================] - ETA: 0s - loss: 0.2783 - accuracy: 0.8873\n",
            "Epoch 7: val_accuracy improved from 0.84588 to 0.85715, saving model to /content/drive/MyDrive/atm/vgg19_weight/vgg19.h5\n",
            "1490/1490 [==============================] - 569s 382ms/step - loss: 0.2783 - accuracy: 0.8873 - val_loss: 0.3597 - val_accuracy: 0.8572\n",
            "Epoch 8/20\n",
            "1490/1490 [==============================] - ETA: 0s - loss: 0.2500 - accuracy: 0.8984\n",
            "Epoch 8: val_accuracy did not improve from 0.85715\n",
            "1490/1490 [==============================] - 567s 380ms/step - loss: 0.2500 - accuracy: 0.8984 - val_loss: 0.3666 - val_accuracy: 0.8551\n",
            "Epoch 9/20\n",
            "1490/1490 [==============================] - ETA: 0s - loss: 0.2229 - accuracy: 0.9100\n",
            "Epoch 9: val_accuracy improved from 0.85715 to 0.87205, saving model to /content/drive/MyDrive/atm/vgg19_weight/vgg19.h5\n",
            "1490/1490 [==============================] - 566s 380ms/step - loss: 0.2229 - accuracy: 0.9100 - val_loss: 0.3195 - val_accuracy: 0.8721\n",
            "Epoch 10/20\n",
            "1490/1490 [==============================] - ETA: 0s - loss: 0.2037 - accuracy: 0.9185\n",
            "Epoch 10: val_accuracy improved from 0.87205 to 0.87602, saving model to /content/drive/MyDrive/atm/vgg19_weight/vgg19.h5\n",
            "1490/1490 [==============================] - 564s 379ms/step - loss: 0.2037 - accuracy: 0.9185 - val_loss: 0.3080 - val_accuracy: 0.8760\n",
            "Epoch 11/20\n",
            "1490/1490 [==============================] - ETA: 0s - loss: 0.1815 - accuracy: 0.9274\n",
            "Epoch 11: val_accuracy did not improve from 0.87602\n",
            "1490/1490 [==============================] - 562s 377ms/step - loss: 0.1815 - accuracy: 0.9274 - val_loss: 0.4143 - val_accuracy: 0.8417\n",
            "Epoch 12/20\n",
            "1490/1490 [==============================] - ETA: 0s - loss: 0.1649 - accuracy: 0.9347\n",
            "Epoch 12: val_accuracy did not improve from 0.87602\n",
            "1490/1490 [==============================] - 562s 377ms/step - loss: 0.1649 - accuracy: 0.9347 - val_loss: 0.3668 - val_accuracy: 0.8561\n",
            "Epoch 13/20\n",
            "1490/1490 [==============================] - ETA: 0s - loss: 0.1455 - accuracy: 0.9437\n",
            "Epoch 13: val_accuracy improved from 0.87602 to 0.88347, saving model to /content/drive/MyDrive/atm/vgg19_weight/vgg19.h5\n",
            "1490/1490 [==============================] - 563s 378ms/step - loss: 0.1455 - accuracy: 0.9437 - val_loss: 0.3083 - val_accuracy: 0.8835\n",
            "Epoch 14/20\n",
            "1490/1490 [==============================] - ETA: 0s - loss: 0.1300 - accuracy: 0.9503\n",
            "Epoch 14: val_accuracy did not improve from 0.88347\n",
            "1490/1490 [==============================] - 562s 377ms/step - loss: 0.1300 - accuracy: 0.9503 - val_loss: 0.3340 - val_accuracy: 0.8728\n",
            "Epoch 15/20\n",
            "1490/1490 [==============================] - ETA: 0s - loss: 0.1217 - accuracy: 0.9532\n",
            "Epoch 15: val_accuracy improved from 0.88347 to 0.88575, saving model to /content/drive/MyDrive/atm/vgg19_weight/vgg19.h5\n",
            "1490/1490 [==============================] - 559s 375ms/step - loss: 0.1217 - accuracy: 0.9532 - val_loss: 0.3099 - val_accuracy: 0.8857\n",
            "Epoch 16/20\n",
            "1490/1490 [==============================] - ETA: 0s - loss: 0.1092 - accuracy: 0.9579\n",
            "Epoch 16: val_accuracy did not improve from 0.88575\n",
            "1490/1490 [==============================] - 558s 375ms/step - loss: 0.1092 - accuracy: 0.9579 - val_loss: 0.3642 - val_accuracy: 0.8731\n",
            "Epoch 17/20\n",
            "1490/1490 [==============================] - ETA: 0s - loss: 0.1010 - accuracy: 0.9614\n",
            "Epoch 17: val_accuracy did not improve from 0.88575\n",
            "1490/1490 [==============================] - 566s 380ms/step - loss: 0.1010 - accuracy: 0.9614 - val_loss: 0.3389 - val_accuracy: 0.8819\n",
            "Epoch 18/20\n",
            "1490/1490 [==============================] - ETA: 0s - loss: 0.0909 - accuracy: 0.9653\n",
            "Epoch 18: val_accuracy did not improve from 0.88575\n",
            "1490/1490 [==============================] - 566s 380ms/step - loss: 0.0909 - accuracy: 0.9653 - val_loss: 0.3532 - val_accuracy: 0.8791\n",
            "Epoch 19/20\n",
            "1490/1490 [==============================] - ETA: 0s - loss: 0.0842 - accuracy: 0.9689\n",
            "Epoch 19: val_accuracy improved from 0.88575 to 0.89004, saving model to /content/drive/MyDrive/atm/vgg19_weight/vgg19.h5\n",
            "1490/1490 [==============================] - 567s 381ms/step - loss: 0.0842 - accuracy: 0.9689 - val_loss: 0.3149 - val_accuracy: 0.8900\n",
            "Epoch 20/20\n",
            "1490/1490 [==============================] - ETA: 0s - loss: 0.0754 - accuracy: 0.9716\n",
            "Epoch 20: val_accuracy improved from 0.89004 to 0.89172, saving model to /content/drive/MyDrive/atm/vgg19_weight/vgg19.h5\n",
            "1490/1490 [==============================] - 568s 381ms/step - loss: 0.0754 - accuracy: 0.9716 - val_loss: 0.3321 - val_accuracy: 0.8917\n",
            "Training Time:11413.18sec\n"
          ]
        }
      ],
      "source": [
        "import time\n",
        "model.compile(loss='categorical_crossentropy', optimizer=Adam(0.0001), metrics=[\"accuracy\"])\n",
        "start = time.time()\n",
        "hist = model.fit(X_train, Y_train, batch_size=40, epochs=20, verbose=1, validation_data=(X_test, Y_test), callbacks=[checkpoint, early])\n",
        "model.save(checkpoint_filepath)\n",
        "print('Training Time:%.2fsec' % float(time.time()-start))"
      ]
    },
    {
      "cell_type": "code",
      "execution_count": null,
      "metadata": {
        "colab": {
          "base_uri": "https://localhost:8080/",
          "height": 269
        },
        "id": "7a2QLR5sIoEX",
        "outputId": "ea634fc4-1b2e-42c5-abeb-4fd389d07f88"
      },
      "outputs": [
        {
          "ename": "NameError",
          "evalue": "ignored",
          "output_type": "error",
          "traceback": [
            "\u001b[0;31m---------------------------------------------------------------------------\u001b[0m",
            "\u001b[0;31mNameError\u001b[0m                                 Traceback (most recent call last)",
            "\u001b[0;32m<ipython-input-2-60d85195802b>\u001b[0m in \u001b[0;36m<module>\u001b[0;34m\u001b[0m\n\u001b[1;32m      1\u001b[0m \u001b[0mcheckpoint_filepath\u001b[0m\u001b[0;34m=\u001b[0m\u001b[0;34m\"/content/drive/MyDrive/atm/vgg19_weight/vgg19_1.h5\"\u001b[0m\u001b[0;34m\u001b[0m\u001b[0;34m\u001b[0m\u001b[0m\n\u001b[0;32m----> 2\u001b[0;31m \u001b[0mcheckpoint\u001b[0m \u001b[0;34m=\u001b[0m \u001b[0mModelCheckpoint\u001b[0m\u001b[0;34m(\u001b[0m\u001b[0mcheckpoint_filepath\u001b[0m\u001b[0;34m,\u001b[0m \u001b[0mmonitor\u001b[0m\u001b[0;34m=\u001b[0m\u001b[0;34m'val_accuracy'\u001b[0m\u001b[0;34m,\u001b[0m \u001b[0mverbose\u001b[0m\u001b[0;34m=\u001b[0m\u001b[0;36m1\u001b[0m\u001b[0;34m,\u001b[0m \u001b[0msave_best_only\u001b[0m\u001b[0;34m=\u001b[0m\u001b[0;32mTrue\u001b[0m\u001b[0;34m,\u001b[0m \u001b[0mmode\u001b[0m\u001b[0;34m=\u001b[0m\u001b[0;34m'max'\u001b[0m\u001b[0;34m)\u001b[0m\u001b[0;34m\u001b[0m\u001b[0;34m\u001b[0m\u001b[0m\n\u001b[0m\u001b[1;32m      3\u001b[0m \u001b[0mmodel\u001b[0m\u001b[0;34m.\u001b[0m\u001b[0mcompile\u001b[0m\u001b[0;34m(\u001b[0m\u001b[0mloss\u001b[0m\u001b[0;34m=\u001b[0m\u001b[0;34m'categorical_crossentropy'\u001b[0m\u001b[0;34m,\u001b[0m \u001b[0moptimizer\u001b[0m\u001b[0;34m=\u001b[0m\u001b[0mSGD\u001b[0m\u001b[0;34m(\u001b[0m\u001b[0;36m0.0001\u001b[0m\u001b[0;34m)\u001b[0m\u001b[0;34m,\u001b[0m \u001b[0mmetrics\u001b[0m\u001b[0;34m=\u001b[0m\u001b[0;34m[\u001b[0m\u001b[0;34m\"accuracy\"\u001b[0m\u001b[0;34m]\u001b[0m\u001b[0;34m)\u001b[0m\u001b[0;34m\u001b[0m\u001b[0;34m\u001b[0m\u001b[0m\n\u001b[1;32m      4\u001b[0m \u001b[0mstart\u001b[0m \u001b[0;34m=\u001b[0m \u001b[0mtime\u001b[0m\u001b[0;34m.\u001b[0m\u001b[0mtime\u001b[0m\u001b[0;34m(\u001b[0m\u001b[0;34m)\u001b[0m\u001b[0;34m\u001b[0m\u001b[0;34m\u001b[0m\u001b[0m\n\u001b[1;32m      5\u001b[0m \u001b[0mhist\u001b[0m \u001b[0;34m=\u001b[0m \u001b[0mmodel\u001b[0m\u001b[0;34m.\u001b[0m\u001b[0mfit\u001b[0m\u001b[0;34m(\u001b[0m\u001b[0mX_train\u001b[0m\u001b[0;34m,\u001b[0m \u001b[0mY_train\u001b[0m\u001b[0;34m,\u001b[0m \u001b[0mbatch_size\u001b[0m\u001b[0;34m=\u001b[0m\u001b[0;36m32\u001b[0m\u001b[0;34m,\u001b[0m \u001b[0mepochs\u001b[0m\u001b[0;34m=\u001b[0m\u001b[0;36m50\u001b[0m\u001b[0;34m,\u001b[0m \u001b[0mverbose\u001b[0m\u001b[0;34m=\u001b[0m\u001b[0;36m1\u001b[0m\u001b[0;34m,\u001b[0m \u001b[0mvalidation_data\u001b[0m\u001b[0;34m=\u001b[0m\u001b[0;34m(\u001b[0m\u001b[0mX_test\u001b[0m\u001b[0;34m,\u001b[0m \u001b[0mY_test\u001b[0m\u001b[0;34m)\u001b[0m\u001b[0;34m,\u001b[0m \u001b[0mcallbacks\u001b[0m\u001b[0;34m=\u001b[0m\u001b[0;34m[\u001b[0m\u001b[0mcheckpoint\u001b[0m\u001b[0;34m]\u001b[0m\u001b[0;34m)\u001b[0m\u001b[0;34m\u001b[0m\u001b[0;34m\u001b[0m\u001b[0m\n",
            "\u001b[0;31mNameError\u001b[0m: name 'ModelCheckpoint' is not defined"
          ]
        }
      ],
      "source": [
        "checkpoint_filepath=\"/content/drive/MyDrive/atm/vgg19_weight/vgg19_1.h5\"\n",
        "checkpoint = ModelCheckpoint(checkpoint_filepath, monitor='val_accuracy', verbose=1, save_best_only=True, mode='max')\n",
        "model.compile(loss='categorical_crossentropy', optimizer=SGD(0.0001), metrics=[\"accuracy\"])\n",
        "start = time.time()\n",
        "hist = model.fit(X_train, Y_train, batch_size=32, epochs=50, verbose=1, validation_data=(X_test, Y_test), callbacks=[checkpoint])\n",
        "print('Training Time:%.2fsec' % float(time.time()-start))\n",
        "model.save(checkpoint_filepath)"
      ]
    },
    {
      "cell_type": "code",
      "execution_count": null,
      "metadata": {
        "colab": {
          "base_uri": "https://localhost:8080/"
        },
        "id": "COqwDnfzZ_sQ",
        "outputId": "8d93beb6-81df-4b50-ef26-e2acdab27bf5"
      },
      "outputs": [
        {
          "name": "stdout",
          "output_type": "stream",
          "text": [
            "              precision    recall  f1-score   support\n",
            "\n",
            "      boxing       0.97      0.98      0.98      2921\n",
            "handclapping       0.99      0.99      0.99       968\n",
            "  handwaving       0.99      0.99      0.99      1028\n",
            "     jogging       0.82      0.80      0.81       878\n",
            "     running       0.86      0.75      0.80       668\n",
            "     walking       0.88      0.93      0.91       986\n",
            "\n",
            "    accuracy                           0.94      7449\n",
            "   macro avg       0.92      0.91      0.91      7449\n",
            "weighted avg       0.94      0.94      0.94      7449\n",
            "\n"
          ]
        }
      ],
      "source": [
        "from sklearn.metrics import classification_report\n",
        "Y_pred = model.predict(X_test)\n",
        "print(classification_report(Y_test.argmax(axis=1), Y_pred.argmax(axis=1), target_names=['boxing', 'handclapping', 'handwaving', 'jogging', 'running', 'walking']))"
      ]
    },
    {
      "cell_type": "code",
      "execution_count": null,
      "metadata": {
        "colab": {
          "base_uri": "https://localhost:8080/",
          "height": 340
        },
        "id": "_vzHPBPOqguB",
        "outputId": "d901d4c9-8db3-435c-ad2f-b38d361b108b"
      },
      "outputs": [
        {
          "data": {
            "text/plain": [
              "<matplotlib.axes._subplots.AxesSubplot at 0x7ff25d0987d0>"
            ]
          },
          "execution_count": 19,
          "metadata": {},
          "output_type": "execute_result"
        },
        {
          "data": {
            "image/png": "[encoded data removed]",
            "text/plain": [
              "<Figure size 432x288 with 2 Axes>"
            ]
          },
          "metadata": {},
          "output_type": "display_data"
        }
      ],
      "source": [
        "# Compute the error.\n",
        "from sklearn.metrics import confusion_matrix\n",
        "import seaborn as sns\n",
        "classNames = ['boxing', 'handclapping', 'handwaving', 'jogging', 'running', 'walking']\n",
        "Y_pred = model.predict(X_test)\n",
        "CM = confusion_matrix(Y_test.argmax(axis=1), Y_pred.argmax(axis=1))\n",
        "# drawing confusion matrix\n",
        "sns.heatmap(CM, center = True , annot=True, fmt=\"d\" ,cmap=\"RdYlBu\", xticklabels=classNames, yticklabels=classNames)"
      ]
    },
    {
      "cell_type": "code",
      "execution_count": null,
      "metadata": {
        "colab": {
          "base_uri": "https://localhost:8080/",
          "height": 408
        },
        "id": "Qkzm6fSwZdf5",
        "outputId": "8f95f5a2-3022-402a-c8e6-aafb3e232e65"
      },
      "outputs": [
        {
          "data": {
            "image/png": "[encoded data removed]",
            "text/plain": [
              "<Figure size 576x432 with 1 Axes>"
            ]
          },
          "metadata": {},
          "output_type": "display_data"
        }
      ],
      "source": [
        "import matplotlib.pyplot as plt\n",
        "plt.style.use(\"ggplot\")\n",
        "plt.figure(figsize=(8,6))\n",
        "plt.plot(np.arange(0, 11), hist.history[\"loss\"], label=\"train_loss\")\n",
        "plt.plot(np.arange(0, 11), hist.history[\"val_loss\"], label=\"val_loss\")\n",
        "plt.title(\"Training Loss and Validation Loss\")\n",
        "plt.xlabel(\"Epoch #\")\n",
        "plt.ylabel(\"Loss\")\n",
        "plt.legend()\n",
        "plt.savefig(\"loss.png\")\n",
        "plt.show()"
      ]
    },
    {
      "cell_type": "code",
      "execution_count": null,
      "metadata": {
        "colab": {
          "base_uri": "https://localhost:8080/",
          "height": 408
        },
        "id": "BZtZtYoaZdf6",
        "outputId": "8c8dad00-2ae8-453a-eb3f-70b070e64a95"
      },
      "outputs": [
        {
          "data": {
            "image/png": "[encoded data removed]",
            "text/plain": [
              "<Figure size 576x432 with 1 Axes>"
            ]
          },
          "metadata": {},
          "output_type": "display_data"
        }
      ],
      "source": [
        "import matplotlib.pyplot as plt\n",
        "plt.style.use(\"ggplot\")\n",
        "plt.figure(figsize=(8,6))\n",
        "plt.plot(np.arange(0, 11), hist.history[\"accuracy\"], label=\"train_accuracy\")\n",
        "plt.plot(np.arange(0, 11), hist.history[\"val_accuracy\"], label=\"val_accuracy\")\n",
        "plt.title(\"Training Accuracy and Validation Accuracy\")\n",
        "plt.xlabel(\"Epoch #\")\n",
        "plt.ylabel(\"Accuracy\")\n",
        "plt.legend()\n",
        "plt.savefig(\"accuracy.png\")\n",
        "plt.show()"
      ]
    },
    {
      "cell_type": "markdown",
      "source": [
        "### Prediction"
      ],
      "metadata": {
        "id": "Tj3tDXLvdAcQ"
      }
    },
    {
      "cell_type": "code",
      "execution_count": null,
      "metadata": {
        "id": "RQLoIJhEhXzG"
      },
      "outputs": [],
      "source": [
        "from keras.models import load_model\n",
        "import warnings\n",
        "warnings.filterwarnings('ignore')\n",
        "\n",
        "filepath = \"/content/handwaving/person18_handwaving_d4_uncomp.avi\"\n",
        "\n",
        "filename = filepath.split('/')[-1]\n",
        "vid = imageio.get_reader(filepath, \"ffmpeg\")\n",
        "\n",
        "frames = []\n",
        "data = []\n",
        "\n",
        "frames_idx = parse_sequence_file()\n",
        "\n",
        "# Add each frame to correct list.\n",
        "for i, frame in enumerate(vid):\n",
        "    # Boolean flag to check if current frame contains human.\n",
        "    ok = False\n",
        "    for seg in frames_idx[filename]:\n",
        "        if i >= seg[0] and i <= seg[1]:\n",
        "            ok = True\n",
        "            break\n",
        "    if not ok:\n",
        "        continue\n",
        "\n",
        "    # Convert to grayscale.\n",
        "                \n",
        "    frame = Image.fromarray(np.array(frame))\n",
        "    frame = frame.convert(\"L\")\n",
        "    frame = np.array(frame.getdata(),\n",
        "                     dtype=np.float32).reshape((120, 160))\n",
        "    frame = np.array(Image.fromarray(frame).resize((12, 32)))\n",
        "\n",
        "    frames.append(frame)\n",
        "\n",
        "data.append({\n",
        "    \"frames\": frames    \n",
        "})\n",
        "\n",
        "fea = []\n",
        "for i in data:\n",
        "    for j in i[\"frames\"]:\n",
        "        fea.append(j)\n",
        "\n",
        "fea = np.array(fea).reshape(-1,384)\n",
        "# print(fea.shape)\n",
        "\n",
        "from sklearn.preprocessing import minmax_scale\n",
        "fea = minmax_scale(fea-fea.mean(), feature_range=(-1,1))\n",
        "fea = pd.DataFrame(fea)\n",
        "\n",
        "vid = imageio.get_reader(filepath, \"ffmpeg\")\n",
        "\n",
        "flow_x = []\n",
        "flow_y = []\n",
        "data = []\n",
        "prev_frame = None\n",
        "\n",
        "# Setup parameters for optical flow.\n",
        "farneback_params = dict(\n",
        "    winsize=20, iterations=1,\n",
        "    flags=cv2.OPTFLOW_FARNEBACK_GAUSSIAN, levels=1,\n",
        "    pyr_scale=0.5, poly_n=5, poly_sigma=1.1, flow=None)\n",
        "\n",
        "# Add each frame to correct list.\n",
        "for i, frame in enumerate(vid):\n",
        "    # Boolean flag to check if current frame contains human.\n",
        "    ok = False\n",
        "    for seg in frames_idx[filename]:\n",
        "        if i >= seg[0] and i <= seg[1]:\n",
        "            ok = True\n",
        "            break\n",
        "    if not ok:\n",
        "        continue\n",
        "                \n",
        "    # Convert to grayscale.\n",
        "    frames = Image.fromarray(np.array(frame))\n",
        "    frames = frames.convert(\"L\")\n",
        "    frames = np.array(frames.getdata(),\n",
        "                        dtype=np.float32).reshape((120, 160))\n",
        "    frames = np.array(Image.fromarray(frames).resize((60, 80)))\n",
        "    if prev_frame is not None:\n",
        "        # Calculate optical flow.\n",
        "        flows = cv2.calcOpticalFlowFarneback(prev_frame, frames, **farneback_params)\n",
        "            \n",
        "            \n",
        "        subsampled_x = np.zeros((32, 12), dtype=np.float32)\n",
        "        subsampled_y = np.zeros((32, 12), dtype=np.float32)\n",
        "        # print(subsampled_x)\n",
        "        for r in range(32):\n",
        "            for c in range(12):\n",
        "                subsampled_x[r, c] = flows[r*2, c*2, 0]\n",
        "                subsampled_y[r, c] = flows[r*2, c*2, 1]\n",
        "                        \n",
        "        flow_x.append(subsampled_x)\n",
        "        flow_y.append(subsampled_y)\n",
        "\n",
        "    prev_frame = frames\n",
        "\n",
        "data.append({\n",
        "    \"filename\": filename,\n",
        "    \"flow_x\": flow_x,\n",
        "    \"flow_y\": flow_y    \n",
        "})\n",
        "\n",
        "\n",
        "flowx= []\n",
        "for i in data:\n",
        "    for j in i[\"flow_x\"]:\n",
        "        flowx.append(j)\n",
        "\n",
        "flowx = np.array(flowx).reshape(-1,384)\n",
        "# print(flowx.shape)\n",
        "flowx = pd.DataFrame(flowx)\n",
        "\n",
        "flowy = []\n",
        "for i in data:\n",
        "    for j in i[\"flow_y\"]:\n",
        "        flowy.append(j)\n",
        "\n",
        "flowy = np.array(flowy).reshape(-1,384)\n",
        "# print(flowy.shape)\n",
        "flowy = pd.DataFrame(flowy)\n",
        "\n",
        "features = pd.concat([fea, flowx, flowy], axis=1, ignore_index=True)\n",
        "# filling nan values\n",
        "features = features.fillna(0)\n",
        "\n",
        "import argparse\n",
        "import numpy as np\n",
        "import os\n",
        "import pickle\n",
        "\n",
        "from scipy.cluster.vq import vq\n",
        "\n",
        "def make_bow(dataset, clusters, tfidf):\n",
        "    # print(\"Make bow vector for each frame\")\n",
        "\n",
        "    # Count total number of frames.\n",
        "    n_frames = len(dataset)\n",
        "\n",
        "    # Init bow vectors for all frames.\n",
        "    bow = np.zeros((n_frames, clusters.shape[1]), dtype=np.float)\n",
        "\n",
        "\n",
        "    # Check whether to use TF-IDF weighting.\n",
        "    if tfidf:\n",
        "        # print(\"Applying TF-IDF weighting\")\n",
        "        freq = np.sum((bow > 0) * 1, axis = 0)\n",
        "        idf = np.log((n_frames + 1) / (freq + 1))\n",
        "        bow = dataset * idf\n",
        "\n",
        "    return bow\n",
        "\n",
        "if __name__ == \"__main__\":\n",
        "\n",
        "    tfidf = 1\n",
        "\n",
        "    # Load clusters.\n",
        "    clusters = features\n",
        "\n",
        "    # Load dataset.\n",
        "    dataset = features\n",
        "\n",
        "    # Make bow vectors.\n",
        "    dataset_bow = make_bow(dataset, clusters, tfidf)\n",
        "\n",
        "\n",
        "class_names = [\"boxing\", \"handclapping\", \"handwaving\", \"jogging\", \"running\",  \"walking\"]\n",
        "\n",
        "# load trained model\n",
        "model = load_model('vgg19.h5')\n",
        "pred = model.predict(dataset_bow)\n",
        "x = []\n",
        "for i in pred:\n",
        "    x.append(np.argmax(i))\n",
        "\n",
        "most_common_item = max(x, key = x.count)\n",
        "\n",
        "print('Action:',class_names[most_common_item])"
      ]
    }
  ],
  "metadata": {
    "colab": {
      "collapsed_sections": [],
      "provenance": []
    },
    "gpuClass": "standard",
    "kernelspec": {
      "display_name": "Python 3",
      "name": "python3"
    },
    "language_info": {
      "name": "python"
    }
  },
  "nbformat": 4,
  "nbformat_minor": 0
}